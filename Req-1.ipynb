{
 "cells": [
  {
   "cell_type": "code",
   "execution_count": 5,
   "metadata": {},
   "outputs": [],
   "source": [
    "import cv2\n",
    "import random\n",
    "import numpy as np\n",
    "import os\n",
    "\n",
    "VIDEO = \"D:/STUDY/competition/competition/Intersection.mp4\"\n",
    "OUT_DIR = \"D:/STUDY/competition/competition/Imgs\"\n",
    "\n",
    "count = 0\n",
    "cap = cv2.VideoCapture(VIDEO)\n",
    "while True:\n",
    "    ret, frame = cap.read()\n",
    "    if not ret:\n",
    "        break\n",
    "\n",
    "    frame = cv2.cvtColor(frame, cv2.COLOR_BGR2GRAY)\n",
    "    frame = cv2.flip(frame,1)\n",
    "    (h, w) = frame.shape\n",
    "    center =  (w//2, h//2)\n",
    "    M = cv2.getRotationMatrix2D(center, random.randint(0, 360), 1)\n",
    "    frame = cv2.warpAffine(frame, M, (w, h))\n",
    "    mean = 0\n",
    "    std_dev = 10\n",
    "    noise = np.random.normal(mean, std_dev, (h, w))\n",
    "    frame = cv2.add(frame, noise.astype(np.uint8))\n",
    "\n",
    "    filename = os.path.join(OUT_DIR + f\"/frame_{count}.jpg\")\n",
    "    count += 1\n",
    "\n",
    "    cv2.imwrite(filename, frame)\n",
    "\n",
    "cap.release()\n",
    "cv2.destroyAllWindows()"
   ]
  },
  {
   "cell_type": "code",
   "execution_count": 8,
   "metadata": {},
   "outputs": [
    {
     "name": "stderr",
     "output_type": "stream",
     "text": [
      "Using cache found in C:\\Users\\DELL/.cache\\torch\\hub\\ultralytics_yolov5_master\n",
      "YOLOv5  2023-6-24 Python-3.9.12 torch-2.0.1+cpu CPU\n",
      "\n",
      "Downloading https://github.com/ultralytics/yolov5/releases/download/v7.0/yolov5s.pt to yolov5s.pt...\n",
      "100.0%\n",
      "\n",
      "Fusing layers... \n",
      "YOLOv5s summary: 213 layers, 7225885 parameters, 0 gradients\n",
      "Adding AutoShape... \n"
     ]
    }
   ],
   "source": [
    "import torch\n",
    "import cv2\n",
    "import json\n",
    "\n",
    "VIDEO = \"D:/STUDY/competition/competition/Intersection.mp4\"\n",
    "OUT_DIR = \"D:/STUDY/competition/competition/output.json\"\n",
    "\n",
    "model = torch.hub.load('ultralytics/yolov5', 'yolov5s', pretrained=True)\n",
    "cap = cv2.VideoCapture(VIDEO)\n",
    "objects = []\n",
    "\n",
    "while True:\n",
    "    ret, frame = cap.read()\n",
    "    if not ret:\n",
    "        break\n",
    "\n",
    "    detections = model(frame)\n",
    "    for det in detections.xyxy[0]:\n",
    "        class_id = int(det[5])\n",
    "        class_name = model.names[class_id]\n",
    "        confidence = float(det[4])\n",
    "        bbox = det[:4].tolist()\n",
    "\n",
    "        # Save the results to the list\n",
    "        objects.append({\n",
    "            'FrameID': cap.get(cv2.CAP_PROP_POS_FRAMES),\n",
    "            'Class': class_name,\n",
    "            'BoundingBox': bbox,\n",
    "            'Confidence': confidence\n",
    "        })\n",
    "\n",
    "with open(OUT_DIR, 'w') as f:\n",
    "    json.dump(objects, f)"
   ]
  }
 ],
 "metadata": {
  "kernelspec": {
   "display_name": "competition",
   "language": "python",
   "name": "python3"
  },
  "language_info": {
   "codemirror_mode": {
    "name": "ipython",
    "version": 3
   },
   "file_extension": ".py",
   "mimetype": "text/x-python",
   "name": "python",
   "nbconvert_exporter": "python",
   "pygments_lexer": "ipython3",
   "version": "3.9.12"
  },
  "orig_nbformat": 4
 },
 "nbformat": 4,
 "nbformat_minor": 2
}
